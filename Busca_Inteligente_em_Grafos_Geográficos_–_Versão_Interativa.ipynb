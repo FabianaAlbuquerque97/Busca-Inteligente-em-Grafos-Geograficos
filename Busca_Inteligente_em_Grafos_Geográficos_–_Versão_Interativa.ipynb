{
  "nbformat": 4,
  "nbformat_minor": 0,
  "metadata": {
    "colab": {
      "provenance": [],
      "authorship_tag": "ABX9TyOvpR1jj7uXzZDnc2COJhW2",
      "include_colab_link": true
    },
    "kernelspec": {
      "name": "python3",
      "display_name": "Python 3"
    },
    "language_info": {
      "name": "python"
    }
  },
  "cells": [
    {
      "cell_type": "markdown",
      "metadata": {
        "id": "view-in-github",
        "colab_type": "text"
      },
      "source": [
        "<a href=\"https://colab.research.google.com/github/FabianaAlbuquerque97/Busca-Inteligente-em-Grafos-Geograficos/blob/main/Busca_Inteligente_em_Grafos_Geogr%C3%A1ficos_%E2%80%93_Vers%C3%A3o_Interativa.ipynb\" target=\"_parent\"><img src=\"https://colab.research.google.com/assets/colab-badge.svg\" alt=\"Open In Colab\"/></a>"
      ]
    },
    {
      "cell_type": "code",
      "execution_count": 1,
      "metadata": {
        "colab": {
          "base_uri": "https://localhost:8080/"
        },
        "id": "yXFSMtWoBSww",
        "outputId": "1e2aa643-7204-41ca-adc7-2153eab7ca83"
      },
      "outputs": [
        {
          "output_type": "stream",
          "name": "stdout",
          "text": [
            "\u001b[2K   \u001b[90m━━━━━━━━━━━━━━━━━━━━━━━━━━━━━━━━━━━━━━━━\u001b[0m \u001b[32m54.1/54.1 MB\u001b[0m \u001b[31m14.1 MB/s\u001b[0m eta \u001b[36m0:00:00\u001b[0m\n",
            "\u001b[2K   \u001b[90m━━━━━━━━━━━━━━━━━━━━━━━━━━━━━━━━━━━━━━━━\u001b[0m \u001b[32m323.1/323.1 kB\u001b[0m \u001b[31m27.7 MB/s\u001b[0m eta \u001b[36m0:00:00\u001b[0m\n",
            "\u001b[2K   \u001b[90m━━━━━━━━━━━━━━━━━━━━━━━━━━━━━━━━━━━━━━━━\u001b[0m \u001b[32m95.2/95.2 kB\u001b[0m \u001b[31m9.0 MB/s\u001b[0m eta \u001b[36m0:00:00\u001b[0m\n",
            "\u001b[2K   \u001b[90m━━━━━━━━━━━━━━━━━━━━━━━━━━━━━━━━━━━━━━━━\u001b[0m \u001b[32m11.5/11.5 MB\u001b[0m \u001b[31m93.6 MB/s\u001b[0m eta \u001b[36m0:00:00\u001b[0m\n",
            "\u001b[2K   \u001b[90m━━━━━━━━━━━━━━━━━━━━━━━━━━━━━━━━━━━━━━━━\u001b[0m \u001b[32m72.0/72.0 kB\u001b[0m \u001b[31m6.9 MB/s\u001b[0m eta \u001b[36m0:00:00\u001b[0m\n",
            "\u001b[2K   \u001b[90m━━━━━━━━━━━━━━━━━━━━━━━━━━━━━━━━━━━━━━━━\u001b[0m \u001b[32m62.5/62.5 kB\u001b[0m \u001b[31m6.2 MB/s\u001b[0m eta \u001b[36m0:00:00\u001b[0m\n",
            "\u001b[?25h"
          ]
        }
      ],
      "source": [
        "# ✅ Bibliotecas\n",
        "!pip install networkx gradio --quiet\n"
      ]
    },
    {
      "cell_type": "code",
      "source": [
        "import networkx as nx\n",
        "import gradio as gr\n",
        "import matplotlib.pyplot as plt\n",
        "import json\n"
      ],
      "metadata": {
        "id": "5oRyTSv5B2S5"
      },
      "execution_count": 2,
      "outputs": []
    },
    {
      "cell_type": "code",
      "source": [
        "with open('cities.json', 'r') as f:\n",
        "    data = json.load(f)\n",
        "\n",
        "graph = nx.Graph()\n",
        "positions = {}\n",
        "\n",
        "# Criar nós com posições\n",
        "for city in data:\n",
        "    name = city[\"city\"]\n",
        "    lat = city[\"latitude\"]\n",
        "    lon = city[\"longitude\"]\n",
        "    graph.add_node(name)\n",
        "    positions[name] = (lon, lat)  # longitude como x, latitude como y\n",
        "\n",
        "# Exemplo: criar arestas entre cidades próximas\n",
        "# Aqui você pode definir a lógica para criar as conexões.\n",
        "# Por exemplo, conectar cidades que estejam a até 500 km de distância\n",
        "\n",
        "from geopy.distance import geodesic\n",
        "\n",
        "threshold_km = 500\n",
        "\n",
        "for i, city1 in enumerate(data):\n",
        "    for j in range(i + 1, len(data)):\n",
        "        city2 = data[j]\n",
        "        coords_1 = (city1[\"latitude\"], city1[\"longitude\"])\n",
        "        coords_2 = (city2[\"latitude\"], city2[\"longitude\"])\n",
        "        distance = geodesic(coords_1, coords_2).km\n",
        "        if distance <= threshold_km:\n",
        "            graph.add_edge(city1[\"city\"], city2[\"city\"], weight=distance)\n"
      ],
      "metadata": {
        "id": "OklovHvPB_Dd"
      },
      "execution_count": 6,
      "outputs": []
    },
    {
      "cell_type": "code",
      "source": [
        "# 🔍 Algoritmos de busca\n",
        "def dfs(graph, start, goal, path=None, visited=None):\n",
        "    if path is None:\n",
        "        path = [start]\n",
        "    if visited is None:\n",
        "        visited = set()\n",
        "    visited.add(start)\n",
        "    if start == goal:\n",
        "        return path\n",
        "    for neighbor in graph.neighbors(start):\n",
        "        if neighbor not in visited:\n",
        "            new_path = dfs(graph, neighbor, goal, path + [neighbor], visited)\n",
        "            if new_path:\n",
        "                return new_path\n",
        "    return None\n",
        "\n",
        "def greedy(graph, start, goal):\n",
        "    from queue import PriorityQueue\n",
        "    def heuristic(n1, n2):\n",
        "        x1, y1 = positions[n1]\n",
        "        x2, y2 = positions[n2]\n",
        "        return ((x1 - x2)**2 + (y1 - y2)**2)**0.5\n",
        "\n",
        "    visited = set()\n",
        "    pq = PriorityQueue()\n",
        "    pq.put((0, [start]))\n",
        "    while not pq.empty():\n",
        "        _, path = pq.get()\n",
        "        current = path[-1]\n",
        "        if current == goal:\n",
        "            return path\n",
        "        if current not in visited:\n",
        "            visited.add(current)\n",
        "            for neighbor in graph.neighbors(current):\n",
        "                if neighbor not in visited:\n",
        "                    pq.put((heuristic(neighbor, goal), path + [neighbor]))\n",
        "    return None\n"
      ],
      "metadata": {
        "id": "w9_D6GzVCTHV"
      },
      "execution_count": 7,
      "outputs": []
    },
    {
      "cell_type": "code",
      "source": [
        "# 🖼️ Geração do gráfico com o caminho\n",
        "def plot_path(path):\n",
        "    plt.figure(figsize=(10, 8))\n",
        "    nx.draw(graph, positions, node_color='lightblue', with_labels=True, node_size=500)\n",
        "    if path:\n",
        "        edge_path = list(zip(path, path[1:]))\n",
        "        nx.draw_networkx_edges(graph, positions, edgelist=edge_path, edge_color='r', width=2)\n",
        "    plt.title(\"Caminho encontrado\")\n",
        "    plt.axis('off')\n",
        "    plt.savefig(\"path_plot.png\")\n",
        "    return \"path_plot.png\"\n"
      ],
      "metadata": {
        "id": "jRYPU1P1Cc94"
      },
      "execution_count": 8,
      "outputs": []
    },
    {
      "cell_type": "code",
      "source": [
        "# 🎯 Função principal para rodar via Gradio\n",
        "def run_search(start, goal, method):\n",
        "    if method == \"DFS\":\n",
        "        path = dfs(graph, start, goal)\n",
        "    elif method == \"Greedy\":\n",
        "        path = greedy(graph, start, goal)\n",
        "    else:\n",
        "        return \"Método inválido\", None\n",
        "    if path:\n",
        "        img = plot_path(path)\n",
        "        return f\"Caminho encontrado: {' → '.join(path)}\", img\n",
        "    else:\n",
        "        return \"Caminho não encontrado.\", None\n"
      ],
      "metadata": {
        "id": "7l2Z62yVCyJC"
      },
      "execution_count": 9,
      "outputs": []
    },
    {
      "cell_type": "code",
      "source": [
        "# 🧭 Interface Interativa\n",
        "cities = list(graph.nodes)\n",
        "\n",
        "interface = gr.Interface(\n",
        "    fn=run_search,\n",
        "    inputs=[\n",
        "        gr.Dropdown(choices=cities, label=\"Cidade de Origem\"),\n",
        "        gr.Dropdown(choices=cities, label=\"Cidade de Destino\"),\n",
        "        gr.Radio(choices=[\"DFS\", \"Greedy\"], label=\"Algoritmo de Busca\")\n",
        "    ],\n",
        "    outputs=[\n",
        "        gr.Text(label=\"Resultado\"),\n",
        "        gr.Image(type=\"filepath\", label=\"Visualização do Caminho\")\n",
        "    ],\n",
        "    title=\"Busca Inteligente em Grafos Geográficos\",\n",
        "    description=\"Escolha a origem, destino e algoritmo de busca para simular rotas em um grafo geográfico real.\"\n",
        ")\n",
        "\n",
        "interface.launch()\n"
      ],
      "metadata": {
        "colab": {
          "base_uri": "https://localhost:8080/",
          "height": 646
        },
        "id": "bFep-KIJC-N-",
        "outputId": "a5d48e02-b0b8-42fc-c1a4-d6b746d953c1"
      },
      "execution_count": 10,
      "outputs": [
        {
          "output_type": "stream",
          "name": "stdout",
          "text": [
            "It looks like you are running Gradio on a hosted a Jupyter notebook. For the Gradio app to work, sharing must be enabled. Automatically setting `share=True` (you can turn this off by setting `share=False` in `launch()` explicitly).\n",
            "\n",
            "Colab notebook detected. To show errors in colab notebook, set debug=True in launch()\n",
            "* Running on public URL: https://c3bb9be4ac7866b791.gradio.live\n",
            "\n",
            "This share link expires in 1 week. For free permanent hosting and GPU upgrades, run `gradio deploy` from the terminal in the working directory to deploy to Hugging Face Spaces (https://huggingface.co/spaces)\n"
          ]
        },
        {
          "output_type": "display_data",
          "data": {
            "text/plain": [
              "<IPython.core.display.HTML object>"
            ],
            "text/html": [
              "<div><iframe src=\"https://c3bb9be4ac7866b791.gradio.live\" width=\"100%\" height=\"500\" allow=\"autoplay; camera; microphone; clipboard-read; clipboard-write;\" frameborder=\"0\" allowfullscreen></iframe></div>"
            ]
          },
          "metadata": {}
        },
        {
          "output_type": "execute_result",
          "data": {
            "text/plain": []
          },
          "metadata": {},
          "execution_count": 10
        }
      ]
    }
  ]
}